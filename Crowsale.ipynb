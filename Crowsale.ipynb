{
 "cells": [
  {
   "cell_type": "code",
   "execution_count": null,
   "id": "2229e5b3-400f-46f6-bb08-ffb6084442d9",
   "metadata": {},
   "outputs": [],
   "source": [
    "pragma solidity ^0.5.0;\n",
    "\n",
    "import \"./NoMansLandMintable.sol\";\n",
    "import \"https://github.com/OpenZeppelin/openzeppelin-contracts/blob/release-v2.5.0/contracts/crowdsale/Crowdsale.sol\";\n",
    "import \"https://github.com/OpenZeppelin/openzeppelin-contracts/blob/release-v2.5.0/contracts/crowdsale/emission/MintedCrowdsale.sol\";\n",
    "\n",
    "contract NoMansLandCrowdsale is Crowdsale, MintedCrowdsale {\n",
    "    constructor (uint256 rate, address payable wallet, NoMansLand token) Crowdsale(rate, wallet, token) public {\n",
    "\n",
    "    }\n",
    "}\n",
    "\n",
    "contract NoMansCrowdsale {\n",
    "    address public NoMans_token_address;\n",
    "    address public NoMans_crowsale_address;\n",
    "\n",
    "    constructor (\n",
    "        string memory name,\n",
    "        string memory symbol,\n",
    "        address payable wallet\n",
    "    )\n",
    "    public\n",
    "    {\n",
    "        NoMansLand token = new NoMansLand(name, symbol, 0);\n",
    "        NoMans_token_address = address(token);\n",
    "\n",
    "        NoMansLandCrowdsale NoMans_crowsale = new NoMansLandCrowdsale(1, wallet, token);\n",
    "        NoMans_crowsale_address = address(NoMans_crowsale);\n",
    "\n",
    "        token.addMinter(NoMans_crowsale_address);\n",
    "        token.renounceMinter();\n",
    "    }\n",
    "}"
   ]
  }
 ],
 "metadata": {
  "kernelspec": {
   "display_name": "Python 3 (ipykernel)",
   "language": "python",
   "name": "python3"
  },
  "language_info": {
   "codemirror_mode": {
    "name": "ipython",
    "version": 3
   },
   "file_extension": ".py",
   "mimetype": "text/x-python",
   "name": "python",
   "nbconvert_exporter": "python",
   "pygments_lexer": "ipython3",
   "version": "3.7.11"
  }
 },
 "nbformat": 4,
 "nbformat_minor": 5
}
